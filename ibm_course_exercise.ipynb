{
 "cells": [
  {
   "cell_type": "markdown",
   "id": "3926526b",
   "metadata": {},
   "source": [
    "# Peer-Graded Assignment"
   ]
  },
  {
   "cell_type": "markdown",
   "id": "10364b7e",
   "metadata": {},
   "source": [
    "## Introduction\n",
    "This notebook is based on exercises listed in the Peer-graded Assignment in the IBM Data Science Course: Tools for Data Science, Module 6, _Submit Your Work and Grade Your Peers_."
   ]
  },
  {
   "cell_type": "markdown",
   "id": "b15feae1",
   "metadata": {},
   "source": [
    "### Data Science Languages\n",
    "Below is a list of languages commonly used within Data Science.\n",
    "- Python\n",
    "- Julia\n",
    "- R"
   ]
  },
  {
   "cell_type": "markdown",
   "id": "0aacecf9",
   "metadata": {},
   "source": [
    "### Data Science Libraries\n",
    "Below is a list of some of the data science libraries that have been mentioned in this course.\n",
    "- Numpy\n",
    "- Pandas\n",
    "- scikit-learn\n",
    "- TensorFlow\n",
    "- PyTorch\n"
   ]
  },
  {
   "cell_type": "markdown",
   "id": "5e209db7",
   "metadata": {},
   "source": [
    "### Data Science Tools\n",
    "Below is a list of different data science tools that have been discussed in this course.\n",
    "- Python and many of its Python packages\n",
    "- RStudio\n",
    "- JupyterLab\n",
    "- Google Colab\n",
    "- SQL\n",
    "- MongoDB\n",
    "- Apache Hadoop\n",
    "- Apache Spark\n",
    "- MapReduce\n",
    "- Git"
   ]
  },
  {
   "cell_type": "markdown",
   "id": "9b43b9dc",
   "metadata": {},
   "source": [
    "### Arithmetic expression examples\n",
    "\n",
    "- **Addition**: `1 + 2`\n",
    "- **Subtraction**: `1 - 2`\n",
    "- **Multiplication**: `5*3`\n",
    "- **Division**: `4/2`"
   ]
  },
  {
   "cell_type": "code",
   "execution_count": null,
   "id": "ae828733",
   "metadata": {},
   "outputs": [
    {
     "name": "stdout",
     "output_type": "stream",
     "text": [
      "4\n"
     ]
    }
   ],
   "source": [
    "a = (5 + 2)*2 + (-10)\n",
    "print(a) # prints 4"
   ]
  },
  {
   "cell_type": "code",
   "execution_count": null,
   "id": "bf90bc10",
   "metadata": {},
   "outputs": [
    {
     "name": "stdout",
     "output_type": "stream",
     "text": [
      "0.50\n"
     ]
    }
   ],
   "source": [
    "minutes = 30\n",
    "minutes_in_hours = minutes/60.0\n",
    "print(f\"{minutes_in_hours:.2f}\") # format the number with 2 decimals, prints 0.50"
   ]
  }
 ],
 "metadata": {
  "kernelspec": {
   "display_name": "data_science_project",
   "language": "python",
   "name": "python3"
  },
  "language_info": {
   "codemirror_mode": {
    "name": "ipython",
    "version": 3
   },
   "file_extension": ".py",
   "mimetype": "text/x-python",
   "name": "python",
   "nbconvert_exporter": "python",
   "pygments_lexer": "ipython3",
   "version": "3.13.5"
  }
 },
 "nbformat": 4,
 "nbformat_minor": 5
}
